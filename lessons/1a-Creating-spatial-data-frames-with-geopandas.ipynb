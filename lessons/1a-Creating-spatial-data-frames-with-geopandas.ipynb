{
 "cells": [
  {
   "cell_type": "markdown",
   "id": "602aaffe",
   "metadata": {},
   "source": [
    "# Spatial Dataframes 1: Creating them using GeoPandas\n",
    "ENV 859 - Fall 2022  \n",
    "© John Fay, Duke University"
   ]
  },
  {
   "cell_type": "markdown",
   "id": "83e39e7e",
   "metadata": {},
   "source": [
    "### What is a spatial dataframe\n",
    "A **spatial dataframe** (aka a **geodataframe** or **spatially enabled dataframe**) is much like a typical Pandas dataframe except that it accomodates a new datatype:  ***geometries*** . Geometries, as you might guess represent geometric features: points, lines, and polygons -- each of which is defined by a one or series of coordinate pairs. These spatial dataframes are also assigned a **coordinate reference system (crs)** which links these coordinates to specific places on the Earth and allows us to do geospatial analysis. In other words, these spatial dataframes are quite the same as our familiar GIS feature classes!"
   ]
  },
  {
   "cell_type": "markdown",
   "id": "c92bfe00",
   "metadata": {},
   "source": [
    "### Libraries for working with spatial dataframes\n",
    "To work with spatial dataframes, we need one of two Python libraries, each of which has its own version of the spatial dataframe and its own set of functions and classes. First is **geopandas**, which has been around for a while, and then there's the newcomer, the **ArcGIS API for Python** (which really needs a better name). In this notebook we explore the former, **geopandas**, focusing in on how we create the GeoDataframes from existing data in various formats. The ArcGIS API for Python will be examined in a different notebook."
   ]
  },
  {
   "cell_type": "markdown",
   "id": "d436fa44",
   "metadata": {},
   "source": [
    "## Lesson 1 - Constructing Spatial Dataframes\n",
    "Before seeing what we can do with spatial dataframes, we need to learn how to construct them in our coding environment. So, our first lesson examines just that. Spatial data can be stored in various formats, and here we look at the methods for importing data stored in the more common formats into a GeoPandas spatial dataframe -- often called a ***geodataframe***. \n",
    "\n",
    "The source formats we examine include:\n",
    "1. [A delimited text file (e.g. CSV) containing coordinate columns and a know coordinate reference system](#1.1---Creating-spatial-dataframes-from-CSV-files-using-GeoPandas)\n",
    "2. [An existing feature class in the form of a shapefile or within a geodatabase](#1.2:-Creating-spatial-dataframes-from-existing-feature-classes)\n",
    "3. [Other formats: GeoJSON files, KML, and [kind of] GeoDatabases](#1.3---Creating-spatial-dataframes-from-other-file-formats)"
   ]
  },
  {
   "cell_type": "markdown",
   "id": "2f791ec6",
   "metadata": {},
   "source": [
    "### 1.1 - Creating spatial dataframes from CSV files using GeoPandas\n",
    "In this example, we examine how to create a point spatial dataframe from a CSV file containing latitude and longitude coordinates. The data we'll use in this exercise is electric vehicle charging locations in North Carolina obtained from the Alternative Fuels Data Center ([link](https://afdc.energy.gov/data_download)). These data, stored in the `NC_Charging_Stations.csv` file in the `data` folder, have been downloaded and preprocesed to subset records falling within North Carolina, and to remove extraneous columns.\n",
    "\n",
    "The process of importing a CSV file into a GeoPandas geodataframe consists of first importing the data into a Pandas dataframe and then creating a **GeoSeries** - or column of geometry objects - from the coordinate columns. Then we construct the geodataframe using the GeoPandas `GeoDataFrame()` function supplying the original dataframe, the geoseries object, and the coordinate reference system or `crs`. "
   ]
  },
  {
   "cell_type": "markdown",
   "id": "4f79e739",
   "metadata": {},
   "source": [
    "#### Step 1. Importing the data into a Pandas dataframe"
   ]
  },
  {
   "cell_type": "code",
   "execution_count": 1,
   "id": "c2e96386",
   "metadata": {},
   "outputs": [],
   "source": [
    "#Import libraries: Pandas (as \"pd\") and geopandas (as \"gpd\")\n",
    "import pandas as pd\n",
    "import geopandas as gpd"
   ]
  },
  {
   "cell_type": "code",
   "execution_count": 2,
   "id": "a7088bc5",
   "metadata": {},
   "outputs": [],
   "source": [
    "#Read the EV Charging station data into a Pandas dataframe\n",
    "df = pd.read_csv('../data/NC_Charging_Stations.csv')"
   ]
  },
  {
   "cell_type": "code",
   "execution_count": 3,
   "id": "d6b80bda",
   "metadata": {},
   "outputs": [
    {
     "data": {
      "text/html": [
       "<div>\n",
       "<style scoped>\n",
       "    .dataframe tbody tr th:only-of-type {\n",
       "        vertical-align: middle;\n",
       "    }\n",
       "\n",
       "    .dataframe tbody tr th {\n",
       "        vertical-align: top;\n",
       "    }\n",
       "\n",
       "    .dataframe thead th {\n",
       "        text-align: right;\n",
       "    }\n",
       "</style>\n",
       "<table border=\"1\" class=\"dataframe\">\n",
       "  <thead>\n",
       "    <tr style=\"text-align: right;\">\n",
       "      <th></th>\n",
       "      <th>ID</th>\n",
       "      <th>Fuel Type Code</th>\n",
       "      <th>Station Name</th>\n",
       "      <th>City</th>\n",
       "      <th>State</th>\n",
       "      <th>ZIP</th>\n",
       "      <th>Status Code</th>\n",
       "      <th>Latitude</th>\n",
       "      <th>Longitude</th>\n",
       "      <th>Facility Type</th>\n",
       "    </tr>\n",
       "  </thead>\n",
       "  <tbody>\n",
       "    <tr>\n",
       "      <th>0</th>\n",
       "      <td>39016</td>\n",
       "      <td>ELEC</td>\n",
       "      <td>City of Raleigh - Municipal Building</td>\n",
       "      <td>Raleigh</td>\n",
       "      <td>NC</td>\n",
       "      <td>27601</td>\n",
       "      <td>E</td>\n",
       "      <td>35.778416</td>\n",
       "      <td>-78.643470</td>\n",
       "      <td>STREET_PARKING</td>\n",
       "    </tr>\n",
       "    <tr>\n",
       "      <th>1</th>\n",
       "      <td>39017</td>\n",
       "      <td>ELEC</td>\n",
       "      <td>City of Raleigh - Downtown</td>\n",
       "      <td>Raleigh</td>\n",
       "      <td>NC</td>\n",
       "      <td>27601</td>\n",
       "      <td>E</td>\n",
       "      <td>35.774350</td>\n",
       "      <td>-78.642287</td>\n",
       "      <td>STREET_PARKING</td>\n",
       "    </tr>\n",
       "  </tbody>\n",
       "</table>\n",
       "</div>"
      ],
      "text/plain": [
       "      ID Fuel Type Code                          Station Name     City State  \\\n",
       "0  39016           ELEC  City of Raleigh - Municipal Building  Raleigh    NC   \n",
       "1  39017           ELEC            City of Raleigh - Downtown  Raleigh    NC   \n",
       "\n",
       "     ZIP Status Code   Latitude  Longitude   Facility Type  \n",
       "0  27601           E  35.778416 -78.643470  STREET_PARKING  \n",
       "1  27601           E  35.774350 -78.642287  STREET_PARKING  "
      ]
     },
     "execution_count": 3,
     "metadata": {},
     "output_type": "execute_result"
    }
   ],
   "source": [
    "#Examine the first few rows, noting the data include \"latitude\"  \"longitude\" columns\n",
    "df.head(2)"
   ]
  },
  {
   "cell_type": "markdown",
   "id": "4f22ea21",
   "metadata": {},
   "source": [
    "#### Step 2. Creating a column of geometric objects (i.e., a GeoSeries) \n",
    "To create a geoseries, we use the geopandas `points_from_xy()` function."
   ]
  },
  {
   "cell_type": "code",
   "execution_count": 4,
   "id": "8bcfbdc6",
   "metadata": {},
   "outputs": [],
   "source": [
    "#Show info on the command\n",
    "gpd.points_from_xy?"
   ]
  },
  {
   "cell_type": "markdown",
   "id": "69222fd0",
   "metadata": {},
   "source": [
    "The essential inputs are a series of x coordinates (our `Longitude` column), a series of y coordinates (our `Latitude` column)."
   ]
  },
  {
   "cell_type": "code",
   "execution_count": 5,
   "id": "29c7f64a",
   "metadata": {},
   "outputs": [],
   "source": [
    "#Create a geoseries object from the coordinate column\n",
    "geometries = gpd.points_from_xy(\n",
    "    x = df['Longitude'],\n",
    "    y = df['Latitude']\n",
    ")"
   ]
  },
  {
   "cell_type": "code",
   "execution_count": 6,
   "id": "ab59b401",
   "metadata": {},
   "outputs": [
    {
     "data": {
      "text/plain": [
       "<GeometryArray>\n",
       "[<shapely.geometry.point.Point object at 0x0000022EBDB311E0>,\n",
       " <shapely.geometry.point.Point object at 0x0000022EBDB31510>,\n",
       " <shapely.geometry.point.Point object at 0x0000022EBDB311E0>,\n",
       " <shapely.geometry.point.Point object at 0x0000022EBDB31510>,\n",
       " <shapely.geometry.point.Point object at 0x0000022EBB37F970>,\n",
       " <shapely.geometry.point.Point object at 0x0000022EBB37D660>,\n",
       " <shapely.geometry.point.Point object at 0x0000022EBB37F970>,\n",
       " <shapely.geometry.point.Point object at 0x0000022EBDA938E0>,\n",
       " <shapely.geometry.point.Point object at 0x0000022EBDA92F20>,\n",
       " <shapely.geometry.point.Point object at 0x0000022EBDA938E0>,\n",
       " ...\n",
       " <shapely.geometry.point.Point object at 0x0000022EBDA92DA0>,\n",
       " <shapely.geometry.point.Point object at 0x0000022EBB37D660>,\n",
       " <shapely.geometry.point.Point object at 0x0000022EBDA92DA0>,\n",
       " <shapely.geometry.point.Point object at 0x0000022EBB37D660>,\n",
       " <shapely.geometry.point.Point object at 0x0000022EBDA92DA0>,\n",
       " <shapely.geometry.point.Point object at 0x0000022EBB37D660>,\n",
       " <shapely.geometry.point.Point object at 0x0000022EBDA92DA0>,\n",
       " <shapely.geometry.point.Point object at 0x0000022EBB37D660>,\n",
       " <shapely.geometry.point.Point object at 0x0000022EBDA92DA0>,\n",
       " <shapely.geometry.point.Point object at 0x0000022EBB37D660>]\n",
       "Length: 1227, dtype: geometry"
      ]
     },
     "execution_count": 6,
     "metadata": {},
     "output_type": "execute_result"
    }
   ],
   "source": [
    "geometries"
   ]
  },
  {
   "cell_type": "markdown",
   "id": "623eb7bb",
   "metadata": {},
   "source": [
    "#### Step 3. Constructing the Geodataframe from the data, the geoseries, and the crs\n",
    "Next, we use the `GeoDataFrame()` function to construct our geodataframe, attaching our geoseries as its \"shape\" field. We also, however, need to define the geodataframes's coordinate reference system, which is done by specifing the *well known ID* or **WKID** (really?) of the coordinate system to which our data is referenced.  \n",
    "\n",
    ">#### ► What is an WKID code?\n",
    ">All \"official\" coordinate systems have a unique ID, often defined by the \"European Petroleum Survey Group\". These ids, often refered to as  \"***WKIDs***\" (short for \"Well Known IDs\"), or sometimes as \"***EPSG codes***\", can be found by looking up the name of the coordinate system on either https://spatialreference.org or https://epsg.io/. For example, the WKID for WGS 84 (to which is what our data is referenced) is [4326](https://spatialreference.org/ref/epsg/wgs-84/)."
   ]
  },
  {
   "cell_type": "code",
   "execution_count": 7,
   "id": "195be675",
   "metadata": {},
   "outputs": [],
   "source": [
    "#View the GeoDataframe() command syntax\n",
    "gpd.GeoDataFrame?"
   ]
  },
  {
   "cell_type": "code",
   "execution_count": 8,
   "id": "bf739daa",
   "metadata": {},
   "outputs": [
    {
     "data": {
      "text/plain": [
       "geopandas.geodataframe.GeoDataFrame"
      ]
     },
     "execution_count": 8,
     "metadata": {},
     "output_type": "execute_result"
    }
   ],
   "source": [
    "#Create a geodataframe from our data\n",
    "gdf_csv = gpd.GeoDataFrame(\n",
    "    df,\n",
    "    geometry = geometries,\n",
    "    crs = 4326\n",
    ")\n",
    "#Confirm the type of the object we just created\n",
    "type(gdf_csv)"
   ]
  },
  {
   "cell_type": "markdown",
   "id": "48a1172d",
   "metadata": {},
   "source": [
    "#### Step 4. Exploring our geodataframe\n",
    "Now, let's explore our geodataframe using many commands familiar with our exploration of Pandas dataframes. These include:\n",
    "* `head()` to show the first few records of the dataframe (note the last column)\n",
    "* `info()` to reveal the structure of the dataframe (note the data type of the last column)\n",
    "* `crs` to reveal the coordinate reference system the dataset uses\n",
    "* `plot()` to plot the data"
   ]
  },
  {
   "cell_type": "code",
   "execution_count": 9,
   "id": "34431b91",
   "metadata": {},
   "outputs": [
    {
     "data": {
      "text/html": [
       "<div>\n",
       "<style scoped>\n",
       "    .dataframe tbody tr th:only-of-type {\n",
       "        vertical-align: middle;\n",
       "    }\n",
       "\n",
       "    .dataframe tbody tr th {\n",
       "        vertical-align: top;\n",
       "    }\n",
       "\n",
       "    .dataframe thead th {\n",
       "        text-align: right;\n",
       "    }\n",
       "</style>\n",
       "<table border=\"1\" class=\"dataframe\">\n",
       "  <thead>\n",
       "    <tr style=\"text-align: right;\">\n",
       "      <th></th>\n",
       "      <th>ID</th>\n",
       "      <th>Fuel Type Code</th>\n",
       "      <th>Station Name</th>\n",
       "      <th>City</th>\n",
       "      <th>State</th>\n",
       "      <th>ZIP</th>\n",
       "      <th>Status Code</th>\n",
       "      <th>Latitude</th>\n",
       "      <th>Longitude</th>\n",
       "      <th>Facility Type</th>\n",
       "      <th>geometry</th>\n",
       "    </tr>\n",
       "  </thead>\n",
       "  <tbody>\n",
       "    <tr>\n",
       "      <th>0</th>\n",
       "      <td>39016</td>\n",
       "      <td>ELEC</td>\n",
       "      <td>City of Raleigh - Municipal Building</td>\n",
       "      <td>Raleigh</td>\n",
       "      <td>NC</td>\n",
       "      <td>27601</td>\n",
       "      <td>E</td>\n",
       "      <td>35.778416</td>\n",
       "      <td>-78.643470</td>\n",
       "      <td>STREET_PARKING</td>\n",
       "      <td>POINT (-78.64347 35.77842)</td>\n",
       "    </tr>\n",
       "    <tr>\n",
       "      <th>1</th>\n",
       "      <td>39017</td>\n",
       "      <td>ELEC</td>\n",
       "      <td>City of Raleigh - Downtown</td>\n",
       "      <td>Raleigh</td>\n",
       "      <td>NC</td>\n",
       "      <td>27601</td>\n",
       "      <td>E</td>\n",
       "      <td>35.774350</td>\n",
       "      <td>-78.642287</td>\n",
       "      <td>STREET_PARKING</td>\n",
       "      <td>POINT (-78.64229 35.77435)</td>\n",
       "    </tr>\n",
       "    <tr>\n",
       "      <th>2</th>\n",
       "      <td>40066</td>\n",
       "      <td>ELEC</td>\n",
       "      <td>Modern Nissan - Concord</td>\n",
       "      <td>Concord</td>\n",
       "      <td>NC</td>\n",
       "      <td>28027</td>\n",
       "      <td>E</td>\n",
       "      <td>35.392063</td>\n",
       "      <td>-80.622777</td>\n",
       "      <td>CAR_DEALER</td>\n",
       "      <td>POINT (-80.62278 35.39206)</td>\n",
       "    </tr>\n",
       "    <tr>\n",
       "      <th>3</th>\n",
       "      <td>40067</td>\n",
       "      <td>ELEC</td>\n",
       "      <td>Fred Anderson Nissan</td>\n",
       "      <td>Fayetteville</td>\n",
       "      <td>NC</td>\n",
       "      <td>28304</td>\n",
       "      <td>E</td>\n",
       "      <td>35.042419</td>\n",
       "      <td>-78.956747</td>\n",
       "      <td>CAR_DEALER</td>\n",
       "      <td>POINT (-78.95675 35.04242)</td>\n",
       "    </tr>\n",
       "    <tr>\n",
       "      <th>4</th>\n",
       "      <td>40068</td>\n",
       "      <td>ELEC</td>\n",
       "      <td>Vann Yorks High Point Nissan</td>\n",
       "      <td>High Point</td>\n",
       "      <td>NC</td>\n",
       "      <td>27260</td>\n",
       "      <td>E</td>\n",
       "      <td>35.937981</td>\n",
       "      <td>-79.996012</td>\n",
       "      <td>CAR_DEALER</td>\n",
       "      <td>POINT (-79.99601 35.93798)</td>\n",
       "    </tr>\n",
       "  </tbody>\n",
       "</table>\n",
       "</div>"
      ],
      "text/plain": [
       "      ID Fuel Type Code                          Station Name          City  \\\n",
       "0  39016           ELEC  City of Raleigh - Municipal Building       Raleigh   \n",
       "1  39017           ELEC            City of Raleigh - Downtown       Raleigh   \n",
       "2  40066           ELEC               Modern Nissan - Concord       Concord   \n",
       "3  40067           ELEC                  Fred Anderson Nissan  Fayetteville   \n",
       "4  40068           ELEC          Vann Yorks High Point Nissan    High Point   \n",
       "\n",
       "  State    ZIP Status Code   Latitude  Longitude   Facility Type  \\\n",
       "0    NC  27601           E  35.778416 -78.643470  STREET_PARKING   \n",
       "1    NC  27601           E  35.774350 -78.642287  STREET_PARKING   \n",
       "2    NC  28027           E  35.392063 -80.622777      CAR_DEALER   \n",
       "3    NC  28304           E  35.042419 -78.956747      CAR_DEALER   \n",
       "4    NC  27260           E  35.937981 -79.996012      CAR_DEALER   \n",
       "\n",
       "                     geometry  \n",
       "0  POINT (-78.64347 35.77842)  \n",
       "1  POINT (-78.64229 35.77435)  \n",
       "2  POINT (-80.62278 35.39206)  \n",
       "3  POINT (-78.95675 35.04242)  \n",
       "4  POINT (-79.99601 35.93798)  "
      ]
     },
     "execution_count": 9,
     "metadata": {},
     "output_type": "execute_result"
    }
   ],
   "source": [
    "#Show the first few records of the geodataframe\n",
    "gdf_csv.head()"
   ]
  },
  {
   "cell_type": "code",
   "execution_count": 10,
   "id": "ed7cb920",
   "metadata": {},
   "outputs": [
    {
     "name": "stdout",
     "output_type": "stream",
     "text": [
      "<class 'geopandas.geodataframe.GeoDataFrame'>\n",
      "RangeIndex: 1227 entries, 0 to 1226\n",
      "Data columns (total 11 columns):\n",
      " #   Column          Non-Null Count  Dtype   \n",
      "---  ------          --------------  -----   \n",
      " 0   ID              1227 non-null   int64   \n",
      " 1   Fuel Type Code  1227 non-null   object  \n",
      " 2   Station Name    1227 non-null   object  \n",
      " 3   City            1227 non-null   object  \n",
      " 4   State           1227 non-null   object  \n",
      " 5   ZIP             1227 non-null   object  \n",
      " 6   Status Code     1227 non-null   object  \n",
      " 7   Latitude        1227 non-null   float64 \n",
      " 8   Longitude       1227 non-null   float64 \n",
      " 9   Facility Type   450 non-null    object  \n",
      " 10  geometry        1227 non-null   geometry\n",
      "dtypes: float64(2), geometry(1), int64(1), object(7)\n",
      "memory usage: 105.6+ KB\n"
     ]
    }
   ],
   "source": [
    "#Show the structure of the dataframe\n",
    "gdf_csv.info()"
   ]
  },
  {
   "cell_type": "code",
   "execution_count": 11,
   "id": "b8a2d601",
   "metadata": {},
   "outputs": [
    {
     "data": {
      "text/plain": [
       "<Geographic 2D CRS: EPSG:4326>\n",
       "Name: WGS 84\n",
       "Axis Info [ellipsoidal]:\n",
       "- Lat[north]: Geodetic latitude (degree)\n",
       "- Lon[east]: Geodetic longitude (degree)\n",
       "Area of Use:\n",
       "- name: World.\n",
       "- bounds: (-180.0, -90.0, 180.0, 90.0)\n",
       "Datum: World Geodetic System 1984 ensemble\n",
       "- Ellipsoid: WGS 84\n",
       "- Prime Meridian: Greenwich"
      ]
     },
     "execution_count": 11,
     "metadata": {},
     "output_type": "execute_result"
    }
   ],
   "source": [
    "#Show the geodataframe's coordinate reference system\n",
    "gdf_csv.crs"
   ]
  },
  {
   "cell_type": "code",
   "execution_count": 12,
   "id": "7481e2ef",
   "metadata": {},
   "outputs": [
    {
     "data": {
      "text/plain": [
       "'EPSG:4326'"
      ]
     },
     "execution_count": 12,
     "metadata": {},
     "output_type": "execute_result"
    }
   ],
   "source": [
    "#Show just the EPSG code of the crs\n",
    "gdf_csv.crs.to_string()"
   ]
  },
  {
   "cell_type": "code",
   "execution_count": 13,
   "id": "255ee8a7",
   "metadata": {},
   "outputs": [
    {
     "data": {
      "text/plain": [
       "<Derived Projected CRS: EPSG:2150>\n",
       "Name: NAD83(CSRS98) / UTM zone 17N\n",
       "Axis Info [cartesian]:\n",
       "- E[east]: Easting (metre)\n",
       "- N[north]: Northing (metre)\n",
       "Area of Use:\n",
       "- name: Canada - Quebec - west of 78°W.\n",
       "- bounds: (-79.85, 46.23, -78.0, 62.45)\n",
       "Coordinate Operation:\n",
       "- name: UTM zone 17N\n",
       "- method: Transverse Mercator\n",
       "Datum: NAD83 Canadian Spatial Reference System\n",
       "- Ellipsoid: GRS 1980\n",
       "- Prime Meridian: Greenwich"
      ]
     },
     "execution_count": 13,
     "metadata": {},
     "output_type": "execute_result"
    }
   ],
   "source": [
    "#Project to UTM Zone 17N \n",
    "gdf_utm = gdf_csv.to_crs(2150)\n",
    "gdf_utm.crs"
   ]
  },
  {
   "cell_type": "code",
   "execution_count": 14,
   "id": "0f9b230b",
   "metadata": {},
   "outputs": [
    {
     "data": {
      "text/plain": [
       "<AxesSubplot: >"
      ]
     },
     "execution_count": 14,
     "metadata": {},
     "output_type": "execute_result"
    },
    {
     "data": {
      "image/png": "[encoded data removed]",
      "text/plain": [
       "<Figure size 2000x1000 with 1 Axes>"
      ]
     },
     "metadata": {},
     "output_type": "display_data"
    }
   ],
   "source": [
    "#Plot the data\n",
    "gdf_csv.plot(color = 'purple', alpha = 0.4, marker = 'x', figsize = (20, 10))"
   ]
  },
  {
   "cell_type": "markdown",
   "id": "3c663256",
   "metadata": {},
   "source": [
    "And that's it! Pretty straight forward. Soon we will explore the various analyses and visualizations we can do with these spatial dataframes, but first, we'll examine a few other types of data we can import into our coding environment as geodataframes"
   ]
  },
  {
   "cell_type": "markdown",
   "id": "1db4a13e",
   "metadata": {
    "heading_collapsed": true
   },
   "source": [
    "### 1.2: Creating spatial dataframes from existing feature classes\n",
    "Here we look at the process of getting existing feature classes, e.g. Shapefiles, into spatial dataframes. We'll again look at methods using GeoPandas and then compare that with similar methods using the ArcGIS API for Python. \n",
    "\n",
    "The dataset we'll use represents major river basins of North Carolina (source: https://data-ncdenr.opendata.arcgis.com/datasets/ncdenr::major-river-basins), a copy of which has been downloaded into the data folder as `Major_Basins.shp`. "
   ]
  },
  {
   "cell_type": "markdown",
   "id": "fad561e7",
   "metadata": {
    "hidden": true
   },
   "source": [
    "#### Step 1. Importing shapefiles using `read_file()`\n",
    "Importing feature classes using GeoPandas is easy with the `read_file()` command. \n",
    "\n",
    ">What's worth noting is that GeoPandas actually uses the Python **Fiona** package to read the shapefiles. Fiona leverages a collection of drivers that provide access to a number of geospatial data formats. Geopandas simplifies the usage of Fiona commands, making import and export of geodataframes easier to use."
   ]
  },
  {
   "cell_type": "code",
   "execution_count": 15,
   "id": "b31cf973",
   "metadata": {
    "hidden": true
   },
   "outputs": [],
   "source": [
    "#Explore the read_file() command\n",
    "gpd.read_file?"
   ]
  },
  {
   "cell_type": "code",
   "execution_count": 16,
   "id": "2227c747",
   "metadata": {
    "hidden": true
   },
   "outputs": [],
   "source": [
    "#Read the shapefile into a GeoPandas geodataframe\n",
    "gdf_shp = gpd.read_file('../data/Major_Basins.shp')"
   ]
  },
  {
   "cell_type": "markdown",
   "id": "f63e65e5",
   "metadata": {
    "hidden": true
   },
   "source": [
    "**Pro tip** -- a shapefile zipped into a single file can also be read in!"
   ]
  },
  {
   "cell_type": "code",
   "execution_count": 17,
   "id": "0a6db8b2",
   "metadata": {
    "hidden": true
   },
   "outputs": [],
   "source": [
    "#Read a *zipped* shapefile into a GeoPandas geodataframe\n",
    "gdf_shp = gpd.read_file('../data/Major_River_Basins.zip')"
   ]
  },
  {
   "cell_type": "code",
   "execution_count": 18,
   "id": "56fa85c5",
   "metadata": {
    "hidden": true
   },
   "outputs": [
    {
     "data": {
      "text/html": [
       "<div>\n",
       "<style scoped>\n",
       "    .dataframe tbody tr th:only-of-type {\n",
       "        vertical-align: middle;\n",
       "    }\n",
       "\n",
       "    .dataframe tbody tr th {\n",
       "        vertical-align: top;\n",
       "    }\n",
       "\n",
       "    .dataframe thead th {\n",
       "        text-align: right;\n",
       "    }\n",
       "</style>\n",
       "<table border=\"1\" class=\"dataframe\">\n",
       "  <thead>\n",
       "    <tr style=\"text-align: right;\">\n",
       "      <th></th>\n",
       "      <th>FID</th>\n",
       "      <th>Basin</th>\n",
       "      <th>Sq_Miles</th>\n",
       "      <th>Acres</th>\n",
       "      <th>Name</th>\n",
       "      <th>PlanLink</th>\n",
       "      <th>SHAPE_Leng</th>\n",
       "      <th>SHAPE_Area</th>\n",
       "      <th>geometry</th>\n",
       "    </tr>\n",
       "  </thead>\n",
       "  <tbody>\n",
       "    <tr>\n",
       "      <th>0</th>\n",
       "      <td>1</td>\n",
       "      <td>BRD</td>\n",
       "      <td>1513.894812</td>\n",
       "      <td>9.688927e+05</td>\n",
       "      <td>Broad</td>\n",
       "      <td>https://deq.nc.gov/about/divisions/water-resou...</td>\n",
       "      <td>5.581258e+05</td>\n",
       "      <td>-5.910819e+09</td>\n",
       "      <td>MULTIPOLYGON (((-9213866.272 4173023.751, -921...</td>\n",
       "    </tr>\n",
       "    <tr>\n",
       "      <th>1</th>\n",
       "      <td>2</td>\n",
       "      <td>CAT</td>\n",
       "      <td>3285.405145</td>\n",
       "      <td>2.102659e+06</td>\n",
       "      <td>Catawba</td>\n",
       "      <td>https://deq.nc.gov/about/divisions/water-resou...</td>\n",
       "      <td>8.567400e+05</td>\n",
       "      <td>-1.289794e+10</td>\n",
       "      <td>POLYGON ((-9094141.192 4320798.406, -9094170.3...</td>\n",
       "    </tr>\n",
       "    <tr>\n",
       "      <th>2</th>\n",
       "      <td>3</td>\n",
       "      <td>CHO</td>\n",
       "      <td>1298.283191</td>\n",
       "      <td>8.309012e+05</td>\n",
       "      <td>Chowan</td>\n",
       "      <td>https://deq.nc.gov/about/divisions/water-resou...</td>\n",
       "      <td>4.665715e+05</td>\n",
       "      <td>-5.193827e+09</td>\n",
       "      <td>POLYGON ((-8531329.201 4376184.236, -8531319.6...</td>\n",
       "    </tr>\n",
       "    <tr>\n",
       "      <th>3</th>\n",
       "      <td>4</td>\n",
       "      <td>CPF</td>\n",
       "      <td>9163.594976</td>\n",
       "      <td>5.864701e+06</td>\n",
       "      <td>Cape Fear</td>\n",
       "      <td>https://deq.nc.gov/about/divisions/water-resou...</td>\n",
       "      <td>1.392877e+06</td>\n",
       "      <td>-3.564402e+10</td>\n",
       "      <td>POLYGON ((-8873544.781 4349237.936, -8873507.1...</td>\n",
       "    </tr>\n",
       "    <tr>\n",
       "      <th>4</th>\n",
       "      <td>5</td>\n",
       "      <td>FBR</td>\n",
       "      <td>2828.806116</td>\n",
       "      <td>1.810436e+06</td>\n",
       "      <td>French Broad</td>\n",
       "      <td>https://deq.nc.gov/about/divisions/water-resou...</td>\n",
       "      <td>7.216967e+05</td>\n",
       "      <td>-1.112308e+10</td>\n",
       "      <td>POLYGON ((-9151379.603 4322288.985, -9151361.4...</td>\n",
       "    </tr>\n",
       "  </tbody>\n",
       "</table>\n",
       "</div>"
      ],
      "text/plain": [
       "   FID Basin     Sq_Miles         Acres          Name  \\\n",
       "0    1   BRD  1513.894812  9.688927e+05         Broad   \n",
       "1    2   CAT  3285.405145  2.102659e+06       Catawba   \n",
       "2    3   CHO  1298.283191  8.309012e+05        Chowan   \n",
       "3    4   CPF  9163.594976  5.864701e+06     Cape Fear   \n",
       "4    5   FBR  2828.806116  1.810436e+06  French Broad   \n",
       "\n",
       "                                            PlanLink    SHAPE_Leng  \\\n",
       "0  https://deq.nc.gov/about/divisions/water-resou...  5.581258e+05   \n",
       "1  https://deq.nc.gov/about/divisions/water-resou...  8.567400e+05   \n",
       "2  https://deq.nc.gov/about/divisions/water-resou...  4.665715e+05   \n",
       "3  https://deq.nc.gov/about/divisions/water-resou...  1.392877e+06   \n",
       "4  https://deq.nc.gov/about/divisions/water-resou...  7.216967e+05   \n",
       "\n",
       "     SHAPE_Area                                           geometry  \n",
       "0 -5.910819e+09  MULTIPOLYGON (((-9213866.272 4173023.751, -921...  \n",
       "1 -1.289794e+10  POLYGON ((-9094141.192 4320798.406, -9094170.3...  \n",
       "2 -5.193827e+09  POLYGON ((-8531329.201 4376184.236, -8531319.6...  \n",
       "3 -3.564402e+10  POLYGON ((-8873544.781 4349237.936, -8873507.1...  \n",
       "4 -1.112308e+10  POLYGON ((-9151379.603 4322288.985, -9151361.4...  "
      ]
     },
     "execution_count": 18,
     "metadata": {},
     "output_type": "execute_result"
    }
   ],
   "source": [
    "#Examine the data\n",
    "gdf_shp.head()"
   ]
  },
  {
   "cell_type": "code",
   "execution_count": 19,
   "id": "cf575ed6",
   "metadata": {
    "hidden": true
   },
   "outputs": [
    {
     "data": {
      "text/plain": [
       "'EPSG:3857'"
      ]
     },
     "execution_count": 19,
     "metadata": {},
     "output_type": "execute_result"
    }
   ],
   "source": [
    "#What is the crs of the data\n",
    "gdf_shp.crs.to_string()"
   ]
  },
  {
   "cell_type": "code",
   "execution_count": 20,
   "id": "9122c832",
   "metadata": {
    "hidden": true
   },
   "outputs": [
    {
     "data": {
      "image/png": "[encoded data removed]",
      "text/plain": [
       "<Figure size 1200x700 with 1 Axes>"
      ]
     },
     "metadata": {},
     "output_type": "display_data"
    }
   ],
   "source": [
    "#Plot the data...\n",
    "gdf_shp.plot(column='Basin', categorical=True, figsize=(12,7), cmap='Pastel2');"
   ]
  },
  {
   "cell_type": "markdown",
   "id": "378c2920",
   "metadata": {},
   "source": [
    "### 1.3 - Creating spatial dataframes from other file formats\n",
    "\n",
    "Now we look at some formats that may be less familiar to you but are becoming more and more common."
   ]
  },
  {
   "cell_type": "markdown",
   "id": "9e33de97",
   "metadata": {},
   "source": [
    "#### 1.3.1 - Reading GeoJSON files\n",
    "We have a GeoJSON format of the major river basins in NC saved in our data folder: `../data/12-Major_River_Basins.geojson` ([source](https://data-ncdenr.opendata.arcgis.com/datasets/ncdenr::major-river-basins/)). Let's see how we go about importing that file. \n",
    "\n",
    ">##### What is GeoJSON?\n",
    ">GeoJSON is a text based format that stores spatial features in a long, but universally readable format (i.e. text!). \"JSON\" stands for JavaScript Object Notation, and if you look at raw JSON files from a Python perspective, it looks like a set of nested dictionary and list objects. We need not get too deep into that, but understand that being text based, JSON and its spatial counterpart GeoJSON, are used widely in web-based services and can be quite useful in certain circumstances.\n",
    "\n",
    "As it happens, that Fiona package we read about, the one GeoPandas uses, can read this format as well. We simply have to indicate what **driver** the `read_file()` function should use to conver the file into a geodataframe."
   ]
  },
  {
   "cell_type": "code",
   "execution_count": 21,
   "id": "87c5e9bd",
   "metadata": {},
   "outputs": [],
   "source": [
    "#read in the file \n",
    "gdf_geojson = gpd.read_file('../data/Major_River_Basins.geojson')"
   ]
  },
  {
   "cell_type": "code",
   "execution_count": 22,
   "id": "253c4620",
   "metadata": {},
   "outputs": [
    {
     "data": {
      "text/html": [
       "<div>\n",
       "<style scoped>\n",
       "    .dataframe tbody tr th:only-of-type {\n",
       "        vertical-align: middle;\n",
       "    }\n",
       "\n",
       "    .dataframe tbody tr th {\n",
       "        vertical-align: top;\n",
       "    }\n",
       "\n",
       "    .dataframe thead th {\n",
       "        text-align: right;\n",
       "    }\n",
       "</style>\n",
       "<table border=\"1\" class=\"dataframe\">\n",
       "  <thead>\n",
       "    <tr style=\"text-align: right;\">\n",
       "      <th></th>\n",
       "      <th>FID</th>\n",
       "      <th>Basin</th>\n",
       "      <th>Sq_Miles</th>\n",
       "      <th>Acres</th>\n",
       "      <th>Name</th>\n",
       "      <th>PlanLink</th>\n",
       "      <th>SHAPE_Length</th>\n",
       "      <th>SHAPE_Area</th>\n",
       "      <th>geometry</th>\n",
       "    </tr>\n",
       "  </thead>\n",
       "  <tbody>\n",
       "    <tr>\n",
       "      <th>0</th>\n",
       "      <td>1</td>\n",
       "      <td>BRD</td>\n",
       "      <td>1513.894812</td>\n",
       "      <td>9.688927e+05</td>\n",
       "      <td>Broad</td>\n",
       "      <td>https://deq.nc.gov/about/divisions/water-resou...</td>\n",
       "      <td>4.660031</td>\n",
       "      <td>0.388971</td>\n",
       "      <td>MULTIPOLYGON (((-82.76957 35.06725, -82.76956 ...</td>\n",
       "    </tr>\n",
       "    <tr>\n",
       "      <th>1</th>\n",
       "      <td>2</td>\n",
       "      <td>CAT</td>\n",
       "      <td>3285.405145</td>\n",
       "      <td>2.102659e+06</td>\n",
       "      <td>Catawba</td>\n",
       "      <td>https://deq.nc.gov/about/divisions/water-resou...</td>\n",
       "      <td>6.978237</td>\n",
       "      <td>0.846399</td>\n",
       "      <td>MULTIPOLYGON (((-81.69406 36.14650, -81.69432 ...</td>\n",
       "    </tr>\n",
       "    <tr>\n",
       "      <th>2</th>\n",
       "      <td>3</td>\n",
       "      <td>CHO</td>\n",
       "      <td>1298.283191</td>\n",
       "      <td>8.309012e+05</td>\n",
       "      <td>Chowan</td>\n",
       "      <td>https://deq.nc.gov/about/divisions/water-resou...</td>\n",
       "      <td>3.898689</td>\n",
       "      <td>0.337555</td>\n",
       "      <td>MULTIPOLYGON (((-76.63823 36.54724, -76.63815 ...</td>\n",
       "    </tr>\n",
       "    <tr>\n",
       "      <th>3</th>\n",
       "      <td>4</td>\n",
       "      <td>CPF</td>\n",
       "      <td>9163.594976</td>\n",
       "      <td>5.864701e+06</td>\n",
       "      <td>Cape Fear</td>\n",
       "      <td>https://deq.nc.gov/about/divisions/water-resou...</td>\n",
       "      <td>11.348849</td>\n",
       "      <td>2.349888</td>\n",
       "      <td>MULTIPOLYGON (((-79.71241 36.35253, -79.71207 ...</td>\n",
       "    </tr>\n",
       "    <tr>\n",
       "      <th>4</th>\n",
       "      <td>5</td>\n",
       "      <td>FBR</td>\n",
       "      <td>2828.806116</td>\n",
       "      <td>1.810436e+06</td>\n",
       "      <td>French Broad</td>\n",
       "      <td>https://deq.nc.gov/about/divisions/water-resou...</td>\n",
       "      <td>5.896702</td>\n",
       "      <td>0.729338</td>\n",
       "      <td>MULTIPOLYGON (((-82.20824 36.15731, -82.20808 ...</td>\n",
       "    </tr>\n",
       "    <tr>\n",
       "      <th>5</th>\n",
       "      <td>6</td>\n",
       "      <td>HIW</td>\n",
       "      <td>644.336043</td>\n",
       "      <td>4.123751e+05</td>\n",
       "      <td>Hiwassee</td>\n",
       "      <td>https://deq.nc.gov/about/divisions/water-resou...</td>\n",
       "      <td>2.212379</td>\n",
       "      <td>0.165039</td>\n",
       "      <td>MULTIPOLYGON (((-84.22085 35.26760, -84.22004 ...</td>\n",
       "    </tr>\n",
       "    <tr>\n",
       "      <th>6</th>\n",
       "      <td>7</td>\n",
       "      <td>LBR</td>\n",
       "      <td>3329.373369</td>\n",
       "      <td>2.130799e+06</td>\n",
       "      <td>Lumber</td>\n",
       "      <td>https://deq.nc.gov/about/divisions/water-resou...</td>\n",
       "      <td>6.166870</td>\n",
       "      <td>0.846672</td>\n",
       "      <td>MULTIPOLYGON (((-79.69832 35.29904, -79.69835 ...</td>\n",
       "    </tr>\n",
       "    <tr>\n",
       "      <th>7</th>\n",
       "      <td>8</td>\n",
       "      <td>LTN</td>\n",
       "      <td>1797.112091</td>\n",
       "      <td>1.150152e+06</td>\n",
       "      <td>Little Tennessee</td>\n",
       "      <td>https://deq.nc.gov/about/divisions/water-resou...</td>\n",
       "      <td>4.135721</td>\n",
       "      <td>0.461508</td>\n",
       "      <td>MULTIPOLYGON (((-83.24850 35.69428, -83.24829 ...</td>\n",
       "    </tr>\n",
       "    <tr>\n",
       "      <th>8</th>\n",
       "      <td>9</td>\n",
       "      <td>NEU</td>\n",
       "      <td>6062.118578</td>\n",
       "      <td>3.879756e+06</td>\n",
       "      <td>Neuse</td>\n",
       "      <td>https://deq.nc.gov/about/divisions/water-resou...</td>\n",
       "      <td>10.109254</td>\n",
       "      <td>1.559528</td>\n",
       "      <td>MULTIPOLYGON (((-79.00292 36.39889, -79.00274 ...</td>\n",
       "    </tr>\n",
       "    <tr>\n",
       "      <th>9</th>\n",
       "      <td>10</td>\n",
       "      <td>NEW</td>\n",
       "      <td>754.360680</td>\n",
       "      <td>4.827908e+05</td>\n",
       "      <td>New</td>\n",
       "      <td>https://deq.nc.gov/about/divisions/water-resou...</td>\n",
       "      <td>2.982621</td>\n",
       "      <td>0.196303</td>\n",
       "      <td>MULTIPOLYGON (((-80.82347 36.55938, -80.82358 ...</td>\n",
       "    </tr>\n",
       "    <tr>\n",
       "      <th>10</th>\n",
       "      <td>11</td>\n",
       "      <td>PAS</td>\n",
       "      <td>3366.459731</td>\n",
       "      <td>2.154534e+06</td>\n",
       "      <td>Pasquotank</td>\n",
       "      <td>https://deq.nc.gov/about/divisions/water-resou...</td>\n",
       "      <td>5.419316</td>\n",
       "      <td>0.872014</td>\n",
       "      <td>MULTIPOLYGON (((-75.86668 36.54655, -75.86432 ...</td>\n",
       "    </tr>\n",
       "    <tr>\n",
       "      <th>11</th>\n",
       "      <td>12</td>\n",
       "      <td>ROA</td>\n",
       "      <td>3492.859984</td>\n",
       "      <td>2.235430e+06</td>\n",
       "      <td>Roanoke</td>\n",
       "      <td>https://deq.nc.gov/about/divisions/water-resou...</td>\n",
       "      <td>11.402531</td>\n",
       "      <td>0.907412</td>\n",
       "      <td>MULTIPOLYGON (((-80.43989 36.55061, -80.43206 ...</td>\n",
       "    </tr>\n",
       "    <tr>\n",
       "      <th>12</th>\n",
       "      <td>13</td>\n",
       "      <td>SAV</td>\n",
       "      <td>171.286462</td>\n",
       "      <td>1.096110e+05</td>\n",
       "      <td>Savannah</td>\n",
       "      <td>https://deq.nc.gov/about/divisions/water-resou...</td>\n",
       "      <td>1.876840</td>\n",
       "      <td>0.043848</td>\n",
       "      <td>MULTIPOLYGON (((-83.55043 35.03918, -83.55010 ...</td>\n",
       "    </tr>\n",
       "    <tr>\n",
       "      <th>13</th>\n",
       "      <td>14</td>\n",
       "      <td>TAR</td>\n",
       "      <td>6147.570716</td>\n",
       "      <td>3.934445e+06</td>\n",
       "      <td>Tar Pamlico</td>\n",
       "      <td>https://deq.nc.gov/about/divisions/water-resou...</td>\n",
       "      <td>11.878872</td>\n",
       "      <td>1.586413</td>\n",
       "      <td>MULTIPOLYGON (((-76.53396 34.58385, -76.53409 ...</td>\n",
       "    </tr>\n",
       "    <tr>\n",
       "      <th>14</th>\n",
       "      <td>15</td>\n",
       "      <td>WAT</td>\n",
       "      <td>204.774468</td>\n",
       "      <td>1.310557e+05</td>\n",
       "      <td>Watauga</td>\n",
       "      <td>https://deq.nc.gov/about/divisions/water-resou...</td>\n",
       "      <td>1.160866</td>\n",
       "      <td>0.053156</td>\n",
       "      <td>MULTIPOLYGON (((-81.79351 36.35873, -81.79344 ...</td>\n",
       "    </tr>\n",
       "    <tr>\n",
       "      <th>15</th>\n",
       "      <td>16</td>\n",
       "      <td>WOK</td>\n",
       "      <td>1381.519940</td>\n",
       "      <td>8.841728e+05</td>\n",
       "      <td>White Oak</td>\n",
       "      <td>https://deq.nc.gov/about/divisions/water-resou...</td>\n",
       "      <td>5.895006</td>\n",
       "      <td>0.352171</td>\n",
       "      <td>MULTIPOLYGON (((-77.95845 33.86398, -77.95878 ...</td>\n",
       "    </tr>\n",
       "    <tr>\n",
       "      <th>16</th>\n",
       "      <td>17</td>\n",
       "      <td>YAD</td>\n",
       "      <td>7220.859346</td>\n",
       "      <td>4.621350e+06</td>\n",
       "      <td>Yadkin Pee Dee</td>\n",
       "      <td>https://deq.nc.gov/about/divisions/water-resou...</td>\n",
       "      <td>8.785219</td>\n",
       "      <td>1.862337</td>\n",
       "      <td>MULTIPOLYGON (((-80.88933 36.56115, -80.88920 ...</td>\n",
       "    </tr>\n",
       "  </tbody>\n",
       "</table>\n",
       "</div>"
      ],
      "text/plain": [
       "    FID Basin     Sq_Miles         Acres              Name  \\\n",
       "0     1   BRD  1513.894812  9.688927e+05             Broad   \n",
       "1     2   CAT  3285.405145  2.102659e+06           Catawba   \n",
       "2     3   CHO  1298.283191  8.309012e+05            Chowan   \n",
       "3     4   CPF  9163.594976  5.864701e+06         Cape Fear   \n",
       "4     5   FBR  2828.806116  1.810436e+06      French Broad   \n",
       "5     6   HIW   644.336043  4.123751e+05          Hiwassee   \n",
       "6     7   LBR  3329.373369  2.130799e+06            Lumber   \n",
       "7     8   LTN  1797.112091  1.150152e+06  Little Tennessee   \n",
       "8     9   NEU  6062.118578  3.879756e+06             Neuse   \n",
       "9    10   NEW   754.360680  4.827908e+05               New   \n",
       "10   11   PAS  3366.459731  2.154534e+06        Pasquotank   \n",
       "11   12   ROA  3492.859984  2.235430e+06           Roanoke   \n",
       "12   13   SAV   171.286462  1.096110e+05          Savannah   \n",
       "13   14   TAR  6147.570716  3.934445e+06       Tar Pamlico   \n",
       "14   15   WAT   204.774468  1.310557e+05           Watauga   \n",
       "15   16   WOK  1381.519940  8.841728e+05         White Oak   \n",
       "16   17   YAD  7220.859346  4.621350e+06    Yadkin Pee Dee   \n",
       "\n",
       "                                             PlanLink  SHAPE_Length  \\\n",
       "0   https://deq.nc.gov/about/divisions/water-resou...      4.660031   \n",
       "1   https://deq.nc.gov/about/divisions/water-resou...      6.978237   \n",
       "2   https://deq.nc.gov/about/divisions/water-resou...      3.898689   \n",
       "3   https://deq.nc.gov/about/divisions/water-resou...     11.348849   \n",
       "4   https://deq.nc.gov/about/divisions/water-resou...      5.896702   \n",
       "5   https://deq.nc.gov/about/divisions/water-resou...      2.212379   \n",
       "6   https://deq.nc.gov/about/divisions/water-resou...      6.166870   \n",
       "7   https://deq.nc.gov/about/divisions/water-resou...      4.135721   \n",
       "8   https://deq.nc.gov/about/divisions/water-resou...     10.109254   \n",
       "9   https://deq.nc.gov/about/divisions/water-resou...      2.982621   \n",
       "10  https://deq.nc.gov/about/divisions/water-resou...      5.419316   \n",
       "11  https://deq.nc.gov/about/divisions/water-resou...     11.402531   \n",
       "12  https://deq.nc.gov/about/divisions/water-resou...      1.876840   \n",
       "13  https://deq.nc.gov/about/divisions/water-resou...     11.878872   \n",
       "14  https://deq.nc.gov/about/divisions/water-resou...      1.160866   \n",
       "15  https://deq.nc.gov/about/divisions/water-resou...      5.895006   \n",
       "16  https://deq.nc.gov/about/divisions/water-resou...      8.785219   \n",
       "\n",
       "    SHAPE_Area                                           geometry  \n",
       "0     0.388971  MULTIPOLYGON (((-82.76957 35.06725, -82.76956 ...  \n",
       "1     0.846399  MULTIPOLYGON (((-81.69406 36.14650, -81.69432 ...  \n",
       "2     0.337555  MULTIPOLYGON (((-76.63823 36.54724, -76.63815 ...  \n",
       "3     2.349888  MULTIPOLYGON (((-79.71241 36.35253, -79.71207 ...  \n",
       "4     0.729338  MULTIPOLYGON (((-82.20824 36.15731, -82.20808 ...  \n",
       "5     0.165039  MULTIPOLYGON (((-84.22085 35.26760, -84.22004 ...  \n",
       "6     0.846672  MULTIPOLYGON (((-79.69832 35.29904, -79.69835 ...  \n",
       "7     0.461508  MULTIPOLYGON (((-83.24850 35.69428, -83.24829 ...  \n",
       "8     1.559528  MULTIPOLYGON (((-79.00292 36.39889, -79.00274 ...  \n",
       "9     0.196303  MULTIPOLYGON (((-80.82347 36.55938, -80.82358 ...  \n",
       "10    0.872014  MULTIPOLYGON (((-75.86668 36.54655, -75.86432 ...  \n",
       "11    0.907412  MULTIPOLYGON (((-80.43989 36.55061, -80.43206 ...  \n",
       "12    0.043848  MULTIPOLYGON (((-83.55043 35.03918, -83.55010 ...  \n",
       "13    1.586413  MULTIPOLYGON (((-76.53396 34.58385, -76.53409 ...  \n",
       "14    0.053156  MULTIPOLYGON (((-81.79351 36.35873, -81.79344 ...  \n",
       "15    0.352171  MULTIPOLYGON (((-77.95845 33.86398, -77.95878 ...  \n",
       "16    1.862337  MULTIPOLYGON (((-80.88933 36.56115, -80.88920 ...  "
      ]
     },
     "execution_count": 22,
     "metadata": {},
     "output_type": "execute_result"
    }
   ],
   "source": [
    "#plot the data\n",
    "gdf_geojson"
   ]
  },
  {
   "cell_type": "code",
   "execution_count": 25,
   "id": "3f5a100e",
   "metadata": {},
   "outputs": [
    {
     "data": {
      "text/plain": [
       "<AxesSubplot: >"
      ]
     },
     "execution_count": 25,
     "metadata": {},
     "output_type": "execute_result"
    },
    {
     "data": {
      "image/png": "[encoded data removed]",
      "text/plain": [
       "<Figure size 640x480 with 1 Axes>"
      ]
     },
     "metadata": {},
     "output_type": "display_data"
    }
   ],
   "source": [
    "gdf_geojson.plot()"
   ]
  },
  {
   "cell_type": "markdown",
   "id": "363b6c36",
   "metadata": {},
   "source": [
    "#### 1.3.2 - Reading KML files\n",
    "We have a GeoJSON format of the major river basins in NC saved in our data folder: `../data/12-Major_River_Basins.geojson` ([source](https://data-ncdenr.opendata.arcgis.com/datasets/ncdenr::major-river-basins/)). Let's see how we go about importing that file. \n",
    "\n",
    ">##### ► What is KML?\n",
    ">KML, short for \"Keyhole Markup Language\", is yet another text based format developed to store geospatial features. This format was originally desgined to work with the Google Earth application (which was originally developed by a company called Keyhole), but others have adopted this format as well because of its simplicity. \n",
    "\n",
    "And yes, Fiona has a driver to work with KML files, but for some reason this driver is not enabled by default. Let's look at all the drivers Fiona can work with by default and how to enable this one. "
   ]
  },
  {
   "cell_type": "code",
   "execution_count": 23,
   "id": "3cd07b10",
   "metadata": {},
   "outputs": [],
   "source": [
    "#Import Fiona\n",
    "import fiona"
   ]
  },
  {
   "cell_type": "code",
   "execution_count": 24,
   "id": "a3ce0760",
   "metadata": {},
   "outputs": [
    {
     "data": {
      "text/plain": [
       "{'DXF': 'rw',\n",
       " 'CSV': 'raw',\n",
       " 'OpenFileGDB': 'r',\n",
       " 'ESRIJSON': 'r',\n",
       " 'ESRI Shapefile': 'raw',\n",
       " 'FlatGeobuf': 'rw',\n",
       " 'GeoJSON': 'raw',\n",
       " 'GeoJSONSeq': 'rw',\n",
       " 'GPKG': 'raw',\n",
       " 'GML': 'rw',\n",
       " 'OGR_GMT': 'rw',\n",
       " 'GPX': 'rw',\n",
       " 'Idrisi': 'r',\n",
       " 'MapInfo File': 'raw',\n",
       " 'DGN': 'raw',\n",
       " 'PCIDSK': 'raw',\n",
       " 'OGR_PDS': 'r',\n",
       " 'S57': 'r',\n",
       " 'SQLite': 'raw',\n",
       " 'TopoJSON': 'r'}"
      ]
     },
     "execution_count": 24,
     "metadata": {},
     "output_type": "execute_result"
    }
   ],
   "source": [
    "#Display fiona's active drivers\n",
    "fiona.supported_drivers"
   ]
  },
  {
   "cell_type": "markdown",
   "id": "e3e1edf9",
   "metadata": {},
   "source": [
    "The result is a dictionary where the keys are the driver and the values are what we can do with them: \n",
    "* `r` indicates we can read those formats but not write to them\n",
    "* `rw` indicates we can both read from and write to those formats\n",
    "* `raw` indicates we can read, write, and append data to existing files in that format\n",
    "\n",
    "You'll also notice KML does not appear on that list, but we can add it with the code below (where we add it directly to the list the geopandas can see...) What is the complete list of drivers? For some odd reason, that's not easily found, but you can decifer a bit from this page: https://github.com/Toblerity/Fiona/blob/master/fiona/drvsupport.py. (Thanks to this [StackExchange page](https://gis.stackexchange.com/questions/191365/drivers-of-fiona) for revealing this.)"
   ]
  },
  {
   "cell_type": "code",
   "execution_count": 26,
   "id": "9f0562d5",
   "metadata": {},
   "outputs": [],
   "source": [
    "#Enable the KML driver in geopandas as a read-write format\n",
    "gpd.io.file.fiona.drvsupport.supported_drivers['KML'] = 'rw'"
   ]
  },
  {
   "cell_type": "code",
   "execution_count": 28,
   "id": "b7de5ffa",
   "metadata": {},
   "outputs": [],
   "source": [
    "#Read the KML file and plot it\n",
    "gdf_kml = gpd.read_file('../data/Major_River_Basins.kml',\n",
    "                       driver = 'KML')"
   ]
  },
  {
   "cell_type": "markdown",
   "id": "b76fe812",
   "metadata": {},
   "source": [
    "#### 1.3.3 Reading ESRI Geodatabase files\n",
    "The ESRI Geodatabase is a tricky format that sits somewhere in the gray area between proprietary and opensource. ESRI does publish enough of how these Geodatabases are structured, programmatically, but that structure evolves quickly -- sometimes faster than coders can update Fiona drivers. \n",
    "\n",
    "For example: <https://github.com/Toblerity/Fiona/issues/428>\n",
    "\n",
    "In any event, those drivers are usually labeled as `OpenFileGDB` and you'd be best off doing a websearch for the latest sequence of commands required to read geodatabase feature classes into a spatial dataframe."
   ]
  }
 ],
 "metadata": {
  "kernelspec": {
   "display_name": "Python 3 (ipykernel)",
   "language": "python",
   "name": "python3"
  },
  "language_info": {
   "codemirror_mode": {
    "name": "ipython",
    "version": 3
   },
   "file_extension": ".py",
   "mimetype": "text/x-python",
   "name": "python",
   "nbconvert_exporter": "python",
   "pygments_lexer": "ipython3",
   "version": "3.10.6"
  }
 },
 "nbformat": 4,
 "nbformat_minor": 5
}
